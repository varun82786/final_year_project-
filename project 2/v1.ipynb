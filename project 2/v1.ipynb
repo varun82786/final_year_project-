{
 "cells": [
  {
   "cell_type": "code",
   "execution_count": 1,
   "id": "b02e1fe6",
   "metadata": {},
   "outputs": [],
   "source": [
    "import pandas as pd\n",
    "import seaborn as sns\n",
    "import matplotlib.pyplot as plt\n",
    "from sklearn.decomposition import PCA\n",
    "from sklearn.cluster import KMeans"
   ]
  },
  {
   "cell_type": "code",
   "execution_count": 2,
   "id": "43ed1703",
   "metadata": {},
   "outputs": [],
   "source": [
    "path=\"final_raw2.csv\""
   ]
  },
  {
   "cell_type": "code",
   "execution_count": 3,
   "id": "d44e4b27",
   "metadata": {},
   "outputs": [],
   "source": [
    "_data=pd.read_csv(path)"
   ]
  },
  {
   "cell_type": "code",
   "execution_count": 4,
   "id": "11bcbd13",
   "metadata": {},
   "outputs": [
    {
     "data": {
      "text/html": [
       "<div>\n",
       "<style scoped>\n",
       "    .dataframe tbody tr th:only-of-type {\n",
       "        vertical-align: middle;\n",
       "    }\n",
       "\n",
       "    .dataframe tbody tr th {\n",
       "        vertical-align: top;\n",
       "    }\n",
       "\n",
       "    .dataframe thead th {\n",
       "        text-align: right;\n",
       "    }\n",
       "</style>\n",
       "<table border=\"1\" class=\"dataframe\">\n",
       "  <thead>\n",
       "    <tr style=\"text-align: right;\">\n",
       "      <th></th>\n",
       "      <th>Unnamed: 0</th>\n",
       "      <th>HR</th>\n",
       "      <th>SpO2</th>\n",
       "      <th>NBP_Mean</th>\n",
       "      <th>Temp</th>\n",
       "      <th>RR</th>\n",
       "    </tr>\n",
       "  </thead>\n",
       "  <tbody>\n",
       "    <tr>\n",
       "      <th>0</th>\n",
       "      <td>0</td>\n",
       "      <td>81.0</td>\n",
       "      <td>99.072208</td>\n",
       "      <td>77.69963</td>\n",
       "      <td>35.959407</td>\n",
       "      <td>11.685824</td>\n",
       "    </tr>\n",
       "    <tr>\n",
       "      <th>1</th>\n",
       "      <td>1</td>\n",
       "      <td>80.0</td>\n",
       "      <td>99.072208</td>\n",
       "      <td>77.69963</td>\n",
       "      <td>35.959407</td>\n",
       "      <td>11.685824</td>\n",
       "    </tr>\n",
       "    <tr>\n",
       "      <th>2</th>\n",
       "      <td>2</td>\n",
       "      <td>80.0</td>\n",
       "      <td>99.072208</td>\n",
       "      <td>77.69963</td>\n",
       "      <td>35.959407</td>\n",
       "      <td>11.685824</td>\n",
       "    </tr>\n",
       "    <tr>\n",
       "      <th>3</th>\n",
       "      <td>3</td>\n",
       "      <td>79.0</td>\n",
       "      <td>99.072208</td>\n",
       "      <td>77.69963</td>\n",
       "      <td>35.959407</td>\n",
       "      <td>11.685824</td>\n",
       "    </tr>\n",
       "    <tr>\n",
       "      <th>4</th>\n",
       "      <td>4</td>\n",
       "      <td>79.0</td>\n",
       "      <td>99.072208</td>\n",
       "      <td>77.69963</td>\n",
       "      <td>35.959407</td>\n",
       "      <td>11.685824</td>\n",
       "    </tr>\n",
       "  </tbody>\n",
       "</table>\n",
       "</div>"
      ],
      "text/plain": [
       "   Unnamed: 0    HR       SpO2  NBP_Mean       Temp         RR\n",
       "0           0  81.0  99.072208  77.69963  35.959407  11.685824\n",
       "1           1  80.0  99.072208  77.69963  35.959407  11.685824\n",
       "2           2  80.0  99.072208  77.69963  35.959407  11.685824\n",
       "3           3  79.0  99.072208  77.69963  35.959407  11.685824\n",
       "4           4  79.0  99.072208  77.69963  35.959407  11.685824"
      ]
     },
     "execution_count": 4,
     "metadata": {},
     "output_type": "execute_result"
    }
   ],
   "source": [
    "_data.head()"
   ]
  },
  {
   "cell_type": "code",
   "execution_count": 5,
   "id": "157b5b7c",
   "metadata": {},
   "outputs": [],
   "source": [
    "### Get all the features columns except some signs\n",
    "features = list(_data.columns)\n",
    "\n",
    "### Get the features data\n",
    "data = _data[features]"
   ]
  },
  {
   "cell_type": "code",
   "execution_count": 6,
   "id": "d5d7e6d1",
   "metadata": {},
   "outputs": [
    {
     "data": {
      "text/html": [
       "<div>\n",
       "<style scoped>\n",
       "    .dataframe tbody tr th:only-of-type {\n",
       "        vertical-align: middle;\n",
       "    }\n",
       "\n",
       "    .dataframe tbody tr th {\n",
       "        vertical-align: top;\n",
       "    }\n",
       "\n",
       "    .dataframe thead th {\n",
       "        text-align: right;\n",
       "    }\n",
       "</style>\n",
       "<table border=\"1\" class=\"dataframe\">\n",
       "  <thead>\n",
       "    <tr style=\"text-align: right;\">\n",
       "      <th></th>\n",
       "      <th>Unnamed: 0</th>\n",
       "      <th>HR</th>\n",
       "      <th>SpO2</th>\n",
       "      <th>NBP_Mean</th>\n",
       "      <th>Temp</th>\n",
       "      <th>RR</th>\n",
       "    </tr>\n",
       "  </thead>\n",
       "  <tbody>\n",
       "    <tr>\n",
       "      <th>0</th>\n",
       "      <td>0</td>\n",
       "      <td>81.000000</td>\n",
       "      <td>99.072208</td>\n",
       "      <td>77.69963</td>\n",
       "      <td>35.959407</td>\n",
       "      <td>11.685824</td>\n",
       "    </tr>\n",
       "    <tr>\n",
       "      <th>1</th>\n",
       "      <td>1</td>\n",
       "      <td>80.000000</td>\n",
       "      <td>99.072208</td>\n",
       "      <td>77.69963</td>\n",
       "      <td>35.959407</td>\n",
       "      <td>11.685824</td>\n",
       "    </tr>\n",
       "    <tr>\n",
       "      <th>2</th>\n",
       "      <td>2</td>\n",
       "      <td>80.000000</td>\n",
       "      <td>99.072208</td>\n",
       "      <td>77.69963</td>\n",
       "      <td>35.959407</td>\n",
       "      <td>11.685824</td>\n",
       "    </tr>\n",
       "    <tr>\n",
       "      <th>3</th>\n",
       "      <td>3</td>\n",
       "      <td>79.000000</td>\n",
       "      <td>99.072208</td>\n",
       "      <td>77.69963</td>\n",
       "      <td>35.959407</td>\n",
       "      <td>11.685824</td>\n",
       "    </tr>\n",
       "    <tr>\n",
       "      <th>4</th>\n",
       "      <td>4</td>\n",
       "      <td>79.000000</td>\n",
       "      <td>99.072208</td>\n",
       "      <td>77.69963</td>\n",
       "      <td>35.959407</td>\n",
       "      <td>11.685824</td>\n",
       "    </tr>\n",
       "    <tr>\n",
       "      <th>...</th>\n",
       "      <td>...</td>\n",
       "      <td>...</td>\n",
       "      <td>...</td>\n",
       "      <td>...</td>\n",
       "      <td>...</td>\n",
       "      <td>...</td>\n",
       "    </tr>\n",
       "    <tr>\n",
       "      <th>7303</th>\n",
       "      <td>7303</td>\n",
       "      <td>83.998438</td>\n",
       "      <td>100.000000</td>\n",
       "      <td>87.00000</td>\n",
       "      <td>35.959407</td>\n",
       "      <td>8.000000</td>\n",
       "    </tr>\n",
       "    <tr>\n",
       "      <th>7304</th>\n",
       "      <td>7304</td>\n",
       "      <td>83.998438</td>\n",
       "      <td>100.000000</td>\n",
       "      <td>87.00000</td>\n",
       "      <td>35.959407</td>\n",
       "      <td>8.000000</td>\n",
       "    </tr>\n",
       "    <tr>\n",
       "      <th>7305</th>\n",
       "      <td>7305</td>\n",
       "      <td>83.998438</td>\n",
       "      <td>100.000000</td>\n",
       "      <td>87.00000</td>\n",
       "      <td>35.959407</td>\n",
       "      <td>8.000000</td>\n",
       "    </tr>\n",
       "    <tr>\n",
       "      <th>7306</th>\n",
       "      <td>7306</td>\n",
       "      <td>83.998438</td>\n",
       "      <td>100.000000</td>\n",
       "      <td>87.00000</td>\n",
       "      <td>35.959407</td>\n",
       "      <td>8.000000</td>\n",
       "    </tr>\n",
       "    <tr>\n",
       "      <th>7307</th>\n",
       "      <td>7307</td>\n",
       "      <td>83.998438</td>\n",
       "      <td>100.000000</td>\n",
       "      <td>87.00000</td>\n",
       "      <td>35.959407</td>\n",
       "      <td>8.000000</td>\n",
       "    </tr>\n",
       "  </tbody>\n",
       "</table>\n",
       "<p>7308 rows × 6 columns</p>\n",
       "</div>"
      ],
      "text/plain": [
       "      Unnamed: 0         HR        SpO2  NBP_Mean       Temp         RR\n",
       "0              0  81.000000   99.072208  77.69963  35.959407  11.685824\n",
       "1              1  80.000000   99.072208  77.69963  35.959407  11.685824\n",
       "2              2  80.000000   99.072208  77.69963  35.959407  11.685824\n",
       "3              3  79.000000   99.072208  77.69963  35.959407  11.685824\n",
       "4              4  79.000000   99.072208  77.69963  35.959407  11.685824\n",
       "...          ...        ...         ...       ...        ...        ...\n",
       "7303        7303  83.998438  100.000000  87.00000  35.959407   8.000000\n",
       "7304        7304  83.998438  100.000000  87.00000  35.959407   8.000000\n",
       "7305        7305  83.998438  100.000000  87.00000  35.959407   8.000000\n",
       "7306        7306  83.998438  100.000000  87.00000  35.959407   8.000000\n",
       "7307        7307  83.998438  100.000000  87.00000  35.959407   8.000000\n",
       "\n",
       "[7308 rows x 6 columns]"
      ]
     },
     "execution_count": 6,
     "metadata": {},
     "output_type": "execute_result"
    }
   ],
   "source": [
    "data"
   ]
  },
  {
   "cell_type": "code",
   "execution_count": 10,
   "id": "0cd0ac46",
   "metadata": {},
   "outputs": [
    {
     "name": "stderr",
     "output_type": "stream",
     "text": [
      "c:\\users\\varun siddartha\\appdata\\local\\programs\\python\\python38\\lib\\site-packages\\sklearn\\cluster\\_kmeans.py:786: FutureWarning: 'precompute_distances' was deprecated in version 0.23 and will be removed in 1.0 (renaming of 0.25). It has no effect\n",
      "  warnings.warn(\"'precompute_distances' was deprecated in version \"\n",
      "c:\\users\\varun siddartha\\appdata\\local\\programs\\python\\python38\\lib\\site-packages\\sklearn\\cluster\\_kmeans.py:792: FutureWarning: 'n_jobs' was deprecated in version 0.23 and will be removed in 1.0 (renaming of 0.25).\n",
      "  warnings.warn(\"'n_jobs' was deprecated in version 0.23 and will be\"\n"
     ]
    }
   ],
   "source": [
    "clustering_kmeans = KMeans(n_clusters=4, precompute_distances=\"auto\", n_jobs=-1)\n",
    "data['clusters'] = clustering_kmeans.fit_predict(data)"
   ]
  },
  {
   "cell_type": "code",
   "execution_count": 11,
   "id": "52e6d8f3",
   "metadata": {},
   "outputs": [
    {
     "name": "stderr",
     "output_type": "stream",
     "text": [
      "c:\\users\\varun siddartha\\appdata\\local\\programs\\python\\python38\\lib\\site-packages\\sklearn\\cluster\\_kmeans.py:786: FutureWarning: 'precompute_distances' was deprecated in version 0.23 and will be removed in 1.0 (renaming of 0.25). It has no effect\n",
      "  warnings.warn(\"'precompute_distances' was deprecated in version \"\n",
      "c:\\users\\varun siddartha\\appdata\\local\\programs\\python\\python38\\lib\\site-packages\\sklearn\\cluster\\_kmeans.py:792: FutureWarning: 'n_jobs' was deprecated in version 0.23 and will be removed in 1.0 (renaming of 0.25).\n",
      "  warnings.warn(\"'n_jobs' was deprecated in version 0.23 and will be\"\n"
     ]
    }
   ],
   "source": [
    "data['clusters'] = clustering_kmeans.fit_predict(data)"
   ]
  },
  {
   "cell_type": "code",
   "execution_count": 22,
   "id": "c1c5ef57",
   "metadata": {},
   "outputs": [
    {
     "data": {
      "image/png": "[encoded data removed]",
      "text/plain": [
       "<Figure size 432x288 with 1 Axes>"
      ]
     },
     "metadata": {
      "needs_background": "light"
     },
     "output_type": "display_data"
    }
   ],
   "source": [
    "### Run PCA on the data and reduce the dimensions in pca_num_components dimensions\n",
    "reduced_data = PCA(n_components=2).fit_transform(data)\n",
    "results = pd.DataFrame(reduced_data,columns=['pca1','pca2'])\n",
    "\n",
    "sns.scatterplot(x=\"pca1\", y=\"pca2\", hue=data['clusters'], data=results)\n",
    "plt.title('K-means Clustering with 2 dimensions')\n",
    "plt.show()"
   ]
  },
  {
   "cell_type": "code",
   "execution_count": 19,
   "id": "36a17082",
   "metadata": {},
   "outputs": [
    {
     "data": {
      "text/plain": [
       "array([[ 3.65349601e+03, -3.23719854e+00, -4.21064648e+00,\n",
       "         3.50681891e+00, -2.04068773e-02],\n",
       "       [ 3.65249536e+03, -3.79768016e+00, -5.03731500e+00,\n",
       "         3.53329020e+00, -1.18464066e-02],\n",
       "       [ 3.65149536e+03, -3.79726195e+00, -5.03685084e+00,\n",
       "         3.53223901e+00, -1.20172445e-02],\n",
       "       ...,\n",
       "       [-3.65149278e+03,  9.17253785e+00, -3.57366637e+00,\n",
       "        -7.73416761e+00, -1.08754034e+00],\n",
       "       [-3.65249278e+03,  9.17295606e+00, -3.57320222e+00,\n",
       "        -7.73521879e+00, -1.08771118e+00],\n",
       "       [-3.65349278e+03,  9.17337427e+00, -3.57273806e+00,\n",
       "        -7.73626998e+00, -1.08788201e+00]])"
      ]
     },
     "execution_count": 19,
     "metadata": {},
     "output_type": "execute_result"
    }
   ],
   "source": [
    "reduced_data = PCA(n_components=5).fit_transform(data)\n",
    "reduced_data"
   ]
  },
  {
   "cell_type": "code",
   "execution_count": 18,
   "id": "88d53118",
   "metadata": {},
   "outputs": [
    {
     "data": {
      "text/plain": [
       "0       0\n",
       "1       0\n",
       "2       0\n",
       "3       0\n",
       "4       0\n",
       "       ..\n",
       "7303    3\n",
       "7304    3\n",
       "7305    3\n",
       "7306    3\n",
       "7307    3\n",
       "Name: clusters, Length: 7308, dtype: int32"
      ]
     },
     "execution_count": 18,
     "metadata": {},
     "output_type": "execute_result"
    }
   ],
   "source": [
    "data['clusters']"
   ]
  },
  {
   "cell_type": "code",
   "execution_count": null,
   "id": "3093ccc3",
   "metadata": {},
   "outputs": [],
   "source": []
  },
  {
   "cell_type": "code",
   "execution_count": null,
   "id": "03ff6c0f",
   "metadata": {},
   "outputs": [],
   "source": []
  }
 ],
 "metadata": {
  "kernelspec": {
   "display_name": "Python 3",
   "language": "python",
   "name": "python3"
  },
  "language_info": {
   "codemirror_mode": {
    "name": "ipython",
    "version": 3
   },
   "file_extension": ".py",
   "mimetype": "text/x-python",
   "name": "python",
   "nbconvert_exporter": "python",
   "pygments_lexer": "ipython3",
   "version": "3.8.10"
  }
 },
 "nbformat": 4,
 "nbformat_minor": 5
}
